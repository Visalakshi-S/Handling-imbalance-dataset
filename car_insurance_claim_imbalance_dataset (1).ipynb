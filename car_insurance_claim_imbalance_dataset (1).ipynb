{
  "nbformat": 4,
  "nbformat_minor": 0,
  "metadata": {
    "colab": {
      "name": "car insurance claim_imbalance dataset.ipynb",
      "provenance": []
    },
    "kernelspec": {
      "name": "python3",
      "display_name": "Python 3"
    }
  },
  "cells": [
    {
      "cell_type": "code",
      "metadata": {
        "id": "ZFyYQ_uIg8RV"
      },
      "source": [
        ""
      ],
      "execution_count": 498,
      "outputs": []
    },
    {
      "cell_type": "markdown",
      "metadata": {
        "id": "cEgzyaznM_J2"
      },
      "source": [
        "As you are working in the insurance company. Company wants to know the reason why claim was not made. Doing so would allow insurance company to improve there policy for giving loan to the customer. In this project you are dealing with various feature such as age, occupation etc. based on that let's get back to the final conculsion.\r\n",
        "\r\n",
        "The dataset has details of **10302 Insurance claim with the following 25 features**.\r\n",
        "\r\n",
        "A zipped file containing the following items is given:\r\n",
        "\r\n",
        "train.csv\r\n",
        "The data file train.csv contains the 7662 instances with the 15 features including the target feature.\r\n",
        "\r\n",
        "test.csv\r\n",
        "The datafile test.csv contains the 1916instances with the 14 features excluding the target feature.\r\n",
        "\r\n",
        "\r\n",
        "**Evaluation metrics**\r\n",
        "For this particular dataset, we are using f1_score as the evaluation metric.\r\n",
        "\r\n",
        "Submissions will be evaluated based on f1_score as per the below threshold.\r\n",
        "\r\n",
        "**Your f1_score score\tPoints earned for the Task**\r\n",
        "\r\n",
        "0.63 <= f1_score\t100% of the available points\r\n",
        "\r\n",
        "\r\n",
        "0.61 <= accuracy_score < 0.63\t80% of the available points\r\n",
        "\r\n",
        "0.59 < accuracy_score < 0.61\t70% of the available points\r\n",
        "\r\n",
        "accuracy_score <= 0.59\tNo points earned\r\n",
        "\r\n",
        "**Why solve this project?**\r\n",
        "\r\n",
        "This is imbalanced dataset . Here 0 - Claim was not made, 1 - Claim made. After completing this project, you will have the better understanding of how to build deal with imbalanced dataset. In this project, you will apply the following concepts.\r\n",
        "\r\n",
        "Train-test split\r\n",
        "\r\n",
        "Standard scaler\r\n",
        "\r\n",
        "Logistic Regression\r\n",
        "\r\n",
        "SMOTE feature scaling"
      ]
    },
    {
      "cell_type": "code",
      "metadata": {
        "id": "utW1KH2LM-I1"
      },
      "source": [
        "import pandas as pd\r\n",
        "import numpy as np\r\n",
        "import seaborn as sns\r\n",
        "from sklearn.model_selection import train_test_split\r\n",
        "from sklearn.preprocessing import LabelEncoder\r\n",
        "from sklearn.linear_model import LogisticRegression\r\n",
        "from sklearn.metrics import f1_score, confusion_matrix\r\n",
        "from sklearn.metrics import precision_score, recall_score\r\n",
        "from sklearn.metrics import roc_auc_score\r\n",
        "path_train = \"/content/drive/MyDrive/Colab_Notebooks/car_insurance_train.csv\"\r\n",
        "path_test=\"/content/drive/MyDrive/Colab_Notebooks/car_insurance_test.csv\"\r\n",
        "df_train=pd.read_csv(path_train)\r\n",
        "df_test=pd.read_csv(path_test)"
      ],
      "execution_count": null,
      "outputs": []
    },
    {
      "cell_type": "code",
      "metadata": {
        "colab": {
          "base_uri": "https://localhost:8080/",
          "height": 576
        },
        "id": "E56v1biLiVCF",
        "outputId": "ac729563-cecf-4691-9563-b8edd76c665e"
      },
      "source": [
        "df_train"
      ],
      "execution_count": 499,
      "outputs": [
        {
          "output_type": "execute_result",
          "data": {
            "text/html": [
              "<div>\n",
              "<style scoped>\n",
              "    .dataframe tbody tr th:only-of-type {\n",
              "        vertical-align: middle;\n",
              "    }\n",
              "\n",
              "    .dataframe tbody tr th {\n",
              "        vertical-align: top;\n",
              "    }\n",
              "\n",
              "    .dataframe thead th {\n",
              "        text-align: right;\n",
              "    }\n",
              "</style>\n",
              "<table border=\"1\" class=\"dataframe\">\n",
              "  <thead>\n",
              "    <tr style=\"text-align: right;\">\n",
              "      <th></th>\n",
              "      <th>Unnamed: 0</th>\n",
              "      <th>ID</th>\n",
              "      <th>KIDSDRIV</th>\n",
              "      <th>AGE</th>\n",
              "      <th>HOMEKIDS</th>\n",
              "      <th>YOJ</th>\n",
              "      <th>INCOME</th>\n",
              "      <th>PARENT1</th>\n",
              "      <th>HOME_VAL</th>\n",
              "      <th>MSTATUS</th>\n",
              "      <th>GENDER</th>\n",
              "      <th>EDUCATION</th>\n",
              "      <th>OCCUPATION</th>\n",
              "      <th>TRAVTIME</th>\n",
              "      <th>CAR_USE</th>\n",
              "      <th>BLUEBOOK</th>\n",
              "      <th>TIF</th>\n",
              "      <th>CAR_TYPE</th>\n",
              "      <th>RED_CAR</th>\n",
              "      <th>OLDCLAIM</th>\n",
              "      <th>CLM_FREQ</th>\n",
              "      <th>REVOKED</th>\n",
              "      <th>MVR_PTS</th>\n",
              "      <th>CLM_AMT</th>\n",
              "      <th>CAR_AGE</th>\n",
              "      <th>CLAIM_FLAG</th>\n",
              "    </tr>\n",
              "  </thead>\n",
              "  <tbody>\n",
              "    <tr>\n",
              "      <th>0</th>\n",
              "      <td>3678</td>\n",
              "      <td>531817639</td>\n",
              "      <td>1</td>\n",
              "      <td>42.0</td>\n",
              "      <td>3</td>\n",
              "      <td>9.0</td>\n",
              "      <td>$4,701</td>\n",
              "      <td>No</td>\n",
              "      <td>$0</td>\n",
              "      <td>Yes</td>\n",
              "      <td>z_F</td>\n",
              "      <td>z_High School</td>\n",
              "      <td>Student</td>\n",
              "      <td>12</td>\n",
              "      <td>Private</td>\n",
              "      <td>$5,900</td>\n",
              "      <td>1</td>\n",
              "      <td>Sports Car</td>\n",
              "      <td>no</td>\n",
              "      <td>$0</td>\n",
              "      <td>0</td>\n",
              "      <td>No</td>\n",
              "      <td>4</td>\n",
              "      <td>$0</td>\n",
              "      <td>9.0</td>\n",
              "      <td>1</td>\n",
              "    </tr>\n",
              "    <tr>\n",
              "      <th>1</th>\n",
              "      <td>2533</td>\n",
              "      <td>738075150</td>\n",
              "      <td>0</td>\n",
              "      <td>50.0</td>\n",
              "      <td>0</td>\n",
              "      <td>7.0</td>\n",
              "      <td>$10,232</td>\n",
              "      <td>No</td>\n",
              "      <td>$129,979</td>\n",
              "      <td>Yes</td>\n",
              "      <td>z_F</td>\n",
              "      <td>Masters</td>\n",
              "      <td>Home Maker</td>\n",
              "      <td>33</td>\n",
              "      <td>Private</td>\n",
              "      <td>$24,470</td>\n",
              "      <td>16</td>\n",
              "      <td>Minivan</td>\n",
              "      <td>no</td>\n",
              "      <td>$5,458</td>\n",
              "      <td>2</td>\n",
              "      <td>No</td>\n",
              "      <td>3</td>\n",
              "      <td>$0</td>\n",
              "      <td>18.0</td>\n",
              "      <td>0</td>\n",
              "    </tr>\n",
              "    <tr>\n",
              "      <th>2</th>\n",
              "      <td>9169</td>\n",
              "      <td>176935775</td>\n",
              "      <td>0</td>\n",
              "      <td>40.0</td>\n",
              "      <td>2</td>\n",
              "      <td>17.0</td>\n",
              "      <td>$66,200</td>\n",
              "      <td>Yes</td>\n",
              "      <td>$223,960</td>\n",
              "      <td>z_No</td>\n",
              "      <td>z_F</td>\n",
              "      <td>Bachelors</td>\n",
              "      <td>Manager</td>\n",
              "      <td>53</td>\n",
              "      <td>Private</td>\n",
              "      <td>$17,260</td>\n",
              "      <td>13</td>\n",
              "      <td>z_SUV</td>\n",
              "      <td>no</td>\n",
              "      <td>$0</td>\n",
              "      <td>0</td>\n",
              "      <td>No</td>\n",
              "      <td>1</td>\n",
              "      <td>$629</td>\n",
              "      <td>9.0</td>\n",
              "      <td>1</td>\n",
              "    </tr>\n",
              "    <tr>\n",
              "      <th>3</th>\n",
              "      <td>4174</td>\n",
              "      <td>195054268</td>\n",
              "      <td>2</td>\n",
              "      <td>38.0</td>\n",
              "      <td>2</td>\n",
              "      <td>13.0</td>\n",
              "      <td>$34,056</td>\n",
              "      <td>No</td>\n",
              "      <td>$122,908</td>\n",
              "      <td>Yes</td>\n",
              "      <td>z_F</td>\n",
              "      <td>z_High School</td>\n",
              "      <td>z_Blue Collar</td>\n",
              "      <td>29</td>\n",
              "      <td>Commercial</td>\n",
              "      <td>$6,180</td>\n",
              "      <td>4</td>\n",
              "      <td>Sports Car</td>\n",
              "      <td>no</td>\n",
              "      <td>$502</td>\n",
              "      <td>1</td>\n",
              "      <td>No</td>\n",
              "      <td>5</td>\n",
              "      <td>$0</td>\n",
              "      <td>2.0</td>\n",
              "      <td>0</td>\n",
              "    </tr>\n",
              "    <tr>\n",
              "      <th>4</th>\n",
              "      <td>10150</td>\n",
              "      <td>764551255</td>\n",
              "      <td>0</td>\n",
              "      <td>38.0</td>\n",
              "      <td>0</td>\n",
              "      <td>NaN</td>\n",
              "      <td>$45,734</td>\n",
              "      <td>No</td>\n",
              "      <td>$222,653</td>\n",
              "      <td>Yes</td>\n",
              "      <td>M</td>\n",
              "      <td>z_High School</td>\n",
              "      <td>Professional</td>\n",
              "      <td>5</td>\n",
              "      <td>Commercial</td>\n",
              "      <td>$9,870</td>\n",
              "      <td>1</td>\n",
              "      <td>Pickup</td>\n",
              "      <td>no</td>\n",
              "      <td>$3,296</td>\n",
              "      <td>1</td>\n",
              "      <td>No</td>\n",
              "      <td>3</td>\n",
              "      <td>$2,156</td>\n",
              "      <td>2.0</td>\n",
              "      <td>1</td>\n",
              "    </tr>\n",
              "    <tr>\n",
              "      <th>...</th>\n",
              "      <td>...</td>\n",
              "      <td>...</td>\n",
              "      <td>...</td>\n",
              "      <td>...</td>\n",
              "      <td>...</td>\n",
              "      <td>...</td>\n",
              "      <td>...</td>\n",
              "      <td>...</td>\n",
              "      <td>...</td>\n",
              "      <td>...</td>\n",
              "      <td>...</td>\n",
              "      <td>...</td>\n",
              "      <td>...</td>\n",
              "      <td>...</td>\n",
              "      <td>...</td>\n",
              "      <td>...</td>\n",
              "      <td>...</td>\n",
              "      <td>...</td>\n",
              "      <td>...</td>\n",
              "      <td>...</td>\n",
              "      <td>...</td>\n",
              "      <td>...</td>\n",
              "      <td>...</td>\n",
              "      <td>...</td>\n",
              "      <td>...</td>\n",
              "      <td>...</td>\n",
              "    </tr>\n",
              "    <tr>\n",
              "      <th>8236</th>\n",
              "      <td>6400</td>\n",
              "      <td>258417857</td>\n",
              "      <td>0</td>\n",
              "      <td>34.0</td>\n",
              "      <td>0</td>\n",
              "      <td>12.0</td>\n",
              "      <td>NaN</td>\n",
              "      <td>No</td>\n",
              "      <td>$125,191</td>\n",
              "      <td>Yes</td>\n",
              "      <td>M</td>\n",
              "      <td>&lt;High School</td>\n",
              "      <td>z_Blue Collar</td>\n",
              "      <td>25</td>\n",
              "      <td>Commercial</td>\n",
              "      <td>$10,250</td>\n",
              "      <td>1</td>\n",
              "      <td>Pickup</td>\n",
              "      <td>yes</td>\n",
              "      <td>$0</td>\n",
              "      <td>0</td>\n",
              "      <td>Yes</td>\n",
              "      <td>0</td>\n",
              "      <td>$0</td>\n",
              "      <td>0.0</td>\n",
              "      <td>0</td>\n",
              "    </tr>\n",
              "    <tr>\n",
              "      <th>8237</th>\n",
              "      <td>9160</td>\n",
              "      <td>305082252</td>\n",
              "      <td>0</td>\n",
              "      <td>44.0</td>\n",
              "      <td>0</td>\n",
              "      <td>NaN</td>\n",
              "      <td>$67,359</td>\n",
              "      <td>No</td>\n",
              "      <td>$234,148</td>\n",
              "      <td>z_No</td>\n",
              "      <td>M</td>\n",
              "      <td>Masters</td>\n",
              "      <td>Lawyer</td>\n",
              "      <td>6</td>\n",
              "      <td>Private</td>\n",
              "      <td>$13,140</td>\n",
              "      <td>10</td>\n",
              "      <td>Minivan</td>\n",
              "      <td>no</td>\n",
              "      <td>$0</td>\n",
              "      <td>0</td>\n",
              "      <td>No</td>\n",
              "      <td>0</td>\n",
              "      <td>$0</td>\n",
              "      <td>13.0</td>\n",
              "      <td>0</td>\n",
              "    </tr>\n",
              "    <tr>\n",
              "      <th>8238</th>\n",
              "      <td>9859</td>\n",
              "      <td>214961196</td>\n",
              "      <td>2</td>\n",
              "      <td>40.0</td>\n",
              "      <td>2</td>\n",
              "      <td>13.0</td>\n",
              "      <td>$30,129</td>\n",
              "      <td>No</td>\n",
              "      <td>$111,591</td>\n",
              "      <td>Yes</td>\n",
              "      <td>z_F</td>\n",
              "      <td>z_High School</td>\n",
              "      <td>Clerical</td>\n",
              "      <td>67</td>\n",
              "      <td>Private</td>\n",
              "      <td>$18,950</td>\n",
              "      <td>6</td>\n",
              "      <td>z_SUV</td>\n",
              "      <td>no</td>\n",
              "      <td>$0</td>\n",
              "      <td>0</td>\n",
              "      <td>No</td>\n",
              "      <td>0</td>\n",
              "      <td>$0</td>\n",
              "      <td>9.0</td>\n",
              "      <td>0</td>\n",
              "    </tr>\n",
              "    <tr>\n",
              "      <th>8239</th>\n",
              "      <td>1688</td>\n",
              "      <td>856394165</td>\n",
              "      <td>0</td>\n",
              "      <td>32.0</td>\n",
              "      <td>1</td>\n",
              "      <td>11.0</td>\n",
              "      <td>$74,315</td>\n",
              "      <td>Yes</td>\n",
              "      <td>$225,301</td>\n",
              "      <td>z_No</td>\n",
              "      <td>M</td>\n",
              "      <td>Masters</td>\n",
              "      <td>Professional</td>\n",
              "      <td>60</td>\n",
              "      <td>Commercial</td>\n",
              "      <td>$24,230</td>\n",
              "      <td>1</td>\n",
              "      <td>Panel Truck</td>\n",
              "      <td>yes</td>\n",
              "      <td>$0</td>\n",
              "      <td>0</td>\n",
              "      <td>No</td>\n",
              "      <td>0</td>\n",
              "      <td>$0</td>\n",
              "      <td>10.0</td>\n",
              "      <td>0</td>\n",
              "    </tr>\n",
              "    <tr>\n",
              "      <th>8240</th>\n",
              "      <td>5994</td>\n",
              "      <td>311416263</td>\n",
              "      <td>0</td>\n",
              "      <td>16.0</td>\n",
              "      <td>0</td>\n",
              "      <td>6.0</td>\n",
              "      <td>$5,336</td>\n",
              "      <td>No</td>\n",
              "      <td>$0</td>\n",
              "      <td>z_No</td>\n",
              "      <td>z_F</td>\n",
              "      <td>z_High School</td>\n",
              "      <td>Clerical</td>\n",
              "      <td>26</td>\n",
              "      <td>Private</td>\n",
              "      <td>$11,650</td>\n",
              "      <td>6</td>\n",
              "      <td>Sports Car</td>\n",
              "      <td>yes</td>\n",
              "      <td>$1,845</td>\n",
              "      <td>2</td>\n",
              "      <td>No</td>\n",
              "      <td>7</td>\n",
              "      <td>$3,808</td>\n",
              "      <td>0.0</td>\n",
              "      <td>0</td>\n",
              "    </tr>\n",
              "  </tbody>\n",
              "</table>\n",
              "<p>8241 rows × 26 columns</p>\n",
              "</div>"
            ],
            "text/plain": [
              "      Unnamed: 0         ID  KIDSDRIV  ...  CLM_AMT  CAR_AGE  CLAIM_FLAG\n",
              "0           3678  531817639         1  ...       $0      9.0           1\n",
              "1           2533  738075150         0  ...       $0     18.0           0\n",
              "2           9169  176935775         0  ...     $629      9.0           1\n",
              "3           4174  195054268         2  ...       $0      2.0           0\n",
              "4          10150  764551255         0  ...   $2,156      2.0           1\n",
              "...          ...        ...       ...  ...      ...      ...         ...\n",
              "8236        6400  258417857         0  ...       $0      0.0           0\n",
              "8237        9160  305082252         0  ...       $0     13.0           0\n",
              "8238        9859  214961196         2  ...       $0      9.0           0\n",
              "8239        1688  856394165         0  ...       $0     10.0           0\n",
              "8240        5994  311416263         0  ...   $3,808      0.0           0\n",
              "\n",
              "[8241 rows x 26 columns]"
            ]
          },
          "metadata": {
            "tags": []
          },
          "execution_count": 499
        }
      ]
    },
    {
      "cell_type": "markdown",
      "metadata": {
        "id": "3hZAkuDLOCJL"
      },
      "source": [
        "Checking for the null values"
      ]
    },
    {
      "cell_type": "code",
      "metadata": {
        "colab": {
          "base_uri": "https://localhost:8080/"
        },
        "id": "ZwGkolOHic7T",
        "outputId": "e8495791-a9b7-46ac-8250-39ee270c5e7b"
      },
      "source": [
        "df_train.isnull().sum()"
      ],
      "execution_count": 500,
      "outputs": [
        {
          "output_type": "execute_result",
          "data": {
            "text/plain": [
              "Unnamed: 0      0\n",
              "ID              0\n",
              "KIDSDRIV        0\n",
              "AGE             6\n",
              "HOMEKIDS        0\n",
              "YOJ           442\n",
              "INCOME        462\n",
              "PARENT1         0\n",
              "HOME_VAL      458\n",
              "MSTATUS         0\n",
              "GENDER          0\n",
              "EDUCATION       0\n",
              "OCCUPATION    530\n",
              "TRAVTIME        0\n",
              "CAR_USE         0\n",
              "BLUEBOOK        0\n",
              "TIF             0\n",
              "CAR_TYPE        0\n",
              "RED_CAR         0\n",
              "OLDCLAIM        0\n",
              "CLM_FREQ        0\n",
              "REVOKED         0\n",
              "MVR_PTS         0\n",
              "CLM_AMT         0\n",
              "CAR_AGE       515\n",
              "CLAIM_FLAG      0\n",
              "dtype: int64"
            ]
          },
          "metadata": {
            "tags": []
          },
          "execution_count": 500
        }
      ]
    },
    {
      "cell_type": "markdown",
      "metadata": {
        "id": "aqRiB4H5OElW"
      },
      "source": [
        "Checking for the null values in the given tets data set"
      ]
    },
    {
      "cell_type": "code",
      "metadata": {
        "colab": {
          "base_uri": "https://localhost:8080/"
        },
        "id": "mL2zw2eNjBxb",
        "outputId": "46ad9392-8a22-4561-df3d-e96836b01a19"
      },
      "source": [
        "df_test.isnull().sum()"
      ],
      "execution_count": 501,
      "outputs": [
        {
          "output_type": "execute_result",
          "data": {
            "text/plain": [
              "Unnamed: 0      0\n",
              "ID              0\n",
              "KIDSDRIV        0\n",
              "AGE             1\n",
              "HOMEKIDS        0\n",
              "YOJ           106\n",
              "INCOME        108\n",
              "PARENT1         0\n",
              "HOME_VAL      117\n",
              "MSTATUS         0\n",
              "GENDER          0\n",
              "EDUCATION       0\n",
              "OCCUPATION    135\n",
              "TRAVTIME        0\n",
              "CAR_USE         0\n",
              "BLUEBOOK        0\n",
              "TIF             0\n",
              "CAR_TYPE        0\n",
              "RED_CAR         0\n",
              "OLDCLAIM        0\n",
              "CLM_FREQ        0\n",
              "REVOKED         0\n",
              "MVR_PTS         0\n",
              "CLM_AMT         0\n",
              "CAR_AGE       124\n",
              "dtype: int64"
            ]
          },
          "metadata": {
            "tags": []
          },
          "execution_count": 501
        }
      ]
    },
    {
      "cell_type": "markdown",
      "metadata": {
        "id": "9zue-6mtOIvk"
      },
      "source": [
        "Filling the null values in both train & test dataset using the method forward fill"
      ]
    },
    {
      "cell_type": "code",
      "metadata": {
        "id": "3NjHYN8MjXUK"
      },
      "source": [
        "df_train.fillna(method='ffill',inplace=True)\r\n",
        "df_test.fillna(method='ffill',inplace=True)"
      ],
      "execution_count": 502,
      "outputs": []
    },
    {
      "cell_type": "markdown",
      "metadata": {
        "id": "BOUAtvj4OQhf"
      },
      "source": [
        "Checking the datatypes for the data set given : "
      ]
    },
    {
      "cell_type": "code",
      "metadata": {
        "colab": {
          "base_uri": "https://localhost:8080/"
        },
        "id": "IsjI7H0djljK",
        "outputId": "50ae77f9-9adc-47a7-a61f-dae4c9a24700"
      },
      "source": [
        "df_train.dtypes"
      ],
      "execution_count": 504,
      "outputs": [
        {
          "output_type": "execute_result",
          "data": {
            "text/plain": [
              "Unnamed: 0      int64\n",
              "ID              int64\n",
              "KIDSDRIV        int64\n",
              "AGE           float64\n",
              "HOMEKIDS        int64\n",
              "YOJ           float64\n",
              "INCOME         object\n",
              "PARENT1        object\n",
              "HOME_VAL       object\n",
              "MSTATUS        object\n",
              "GENDER         object\n",
              "EDUCATION      object\n",
              "OCCUPATION     object\n",
              "TRAVTIME        int64\n",
              "CAR_USE        object\n",
              "BLUEBOOK       object\n",
              "TIF             int64\n",
              "CAR_TYPE       object\n",
              "RED_CAR        object\n",
              "OLDCLAIM       object\n",
              "CLM_FREQ        int64\n",
              "REVOKED        object\n",
              "MVR_PTS         int64\n",
              "CLM_AMT        object\n",
              "CAR_AGE       float64\n",
              "CLAIM_FLAG      int64\n",
              "dtype: object"
            ]
          },
          "metadata": {
            "tags": []
          },
          "execution_count": 504
        }
      ]
    },
    {
      "cell_type": "markdown",
      "metadata": {
        "id": "mnXpwLM6OWqu"
      },
      "source": [
        "Removing the $ & , from both train & test data set for the column INCOME"
      ]
    },
    {
      "cell_type": "code",
      "metadata": {
        "id": "T-qhnSqhkujh"
      },
      "source": [
        "df_train['INCOME']=df_train['INCOME'].str.replace(\",\",\"\")\r\n",
        "df_train['INCOME']=df_train['INCOME'].str.replace(\"$\",\"\")"
      ],
      "execution_count": 508,
      "outputs": []
    },
    {
      "cell_type": "code",
      "metadata": {
        "id": "Os_sWMqs6kRl"
      },
      "source": [
        "df_test['INCOME']=df_test['INCOME'].str.replace(\",\",\"\")\r\n",
        "df_test['INCOME']=df_test['INCOME'].str.replace(\"$\",\"\")"
      ],
      "execution_count": 509,
      "outputs": []
    },
    {
      "cell_type": "markdown",
      "metadata": {
        "id": "cvupK7I5OeQH"
      },
      "source": [
        "Droppping the unnamed & ID column in both train & test data set"
      ]
    },
    {
      "cell_type": "code",
      "metadata": {
        "id": "EcPTKFpdCmBv"
      },
      "source": [
        "df_train.drop([\"Unnamed: 0\",\"ID\"],axis=1,inplace=True)\r\n",
        "df_test.drop([\"Unnamed: 0\",\"ID\"],axis=1,inplace=True)"
      ],
      "execution_count": 510,
      "outputs": []
    },
    {
      "cell_type": "markdown",
      "metadata": {
        "id": "tWsjWrt5Ok27"
      },
      "source": [
        "Converting the year of joining & age column from float to INT"
      ]
    },
    {
      "cell_type": "code",
      "metadata": {
        "id": "1fRkJjZpCQ4W"
      },
      "source": [
        "df_train[\"AGE\"] = df_train[\"AGE\"].astype('int')\r\n",
        "df_test[\"AGE\"]=df_test[\"AGE\"].astype('int')\r\n",
        "df_train[\"YOJ\"] = df_train[\"YOJ\"].astype('int')\r\n",
        "df_test[\"YOJ\"] = df_test[\"YOJ\"].astype('int')  "
      ],
      "execution_count": 512,
      "outputs": []
    },
    {
      "cell_type": "code",
      "metadata": {
        "colab": {
          "base_uri": "https://localhost:8080/",
          "height": 288
        },
        "id": "8uBbfPBYC7Tw",
        "outputId": "e41c914c-bbb1-4415-bb4e-bdb8f8412790"
      },
      "source": [
        "df_train[\"PARENT1\"].value_counts().plot(kind='bar')"
      ],
      "execution_count": 513,
      "outputs": [
        {
          "output_type": "execute_result",
          "data": {
            "text/plain": [
              "<matplotlib.axes._subplots.AxesSubplot at 0x7fc827bb17f0>"
            ]
          },
          "metadata": {
            "tags": []
          },
          "execution_count": 513
        },
        {
          "output_type": "display_data",
          "data": {
            "image/png": "[encoded data removed]",
            "text/plain": [
              "<Figure size 432x288 with 1 Axes>"
            ]
          },
          "metadata": {
            "tags": [],
            "needs_background": "light"
          }
        }
      ]
    },
    {
      "cell_type": "markdown",
      "metadata": {
        "id": "5ylzSU5BVwqI"
      },
      "source": [
        "Converting the catergorical columns to int using cat codes"
      ]
    },
    {
      "cell_type": "code",
      "metadata": {
        "id": "NFiQugdoDOqo"
      },
      "source": [
        "df_train[\"PARENT1\"]=df_train[\"PARENT1\"].astype('category').cat.codes.astype('int')\r\n",
        "df_test[\"PARENT1\"]=df_test[\"PARENT1\"].astype('category').cat.codes.astype('int')"
      ],
      "execution_count": 514,
      "outputs": []
    },
    {
      "cell_type": "code",
      "metadata": {
        "id": "3E3oifsWDhi3"
      },
      "source": [
        "df_train['HOME_VAL']=df_train['HOME_VAL'].str.replace(\"$\",\"\")\r\n",
        "df_train['HOME_VAL']=df_train['HOME_VAL'].str.replace(\",\",\"\").astype('int')\r\n"
      ],
      "execution_count": 515,
      "outputs": []
    },
    {
      "cell_type": "code",
      "metadata": {
        "id": "dg0yyqxdD2vB"
      },
      "source": [
        "df_test['HOME_VAL']=df_test['HOME_VAL'].str.replace(\"$\",\"\")\r\n",
        "df_test['HOME_VAL']=df_test['HOME_VAL'].str.replace(\",\",\"\").astype('int')"
      ],
      "execution_count": 516,
      "outputs": []
    },
    {
      "cell_type": "code",
      "metadata": {
        "id": "_F22b4-QFkvv"
      },
      "source": [
        "df_train[\"MSTATUS\"]=df_train[\"MSTATUS\"].astype('category').cat.codes.astype('int')\r\n",
        "df_test[\"MSTATUS\"]=df_test[\"MSTATUS\"].astype('category').cat.codes.astype('int')\r\n",
        "df_train[\"GENDER\"]=df_train[\"GENDER\"].astype('category').cat.codes.astype('int')\r\n",
        "df_test[\"GENDER\"]=df_test[\"GENDER\"].astype('category').cat.codes.astype('int')\r\n",
        "df_train[\"EDUCATION\"]=df_train[\"EDUCATION\"].astype('category').cat.codes.astype('int')\r\n",
        "df_test[\"EDUCATION\"]=df_test[\"EDUCATION\"].astype('category').cat.codes.astype('int')\r\n",
        "df_train[\"OCCUPATION\"]=df_train[\"OCCUPATION\"].astype('category').cat.codes.astype('int')\r\n",
        "df_test[\"OCCUPATION\"]=df_test[\"OCCUPATION\"].astype('category').cat.codes.astype('int')\r\n",
        "df_train[\"CAR_USE\"]=df_train[\"CAR_USE\"].astype('category').cat.codes.astype('int')\r\n",
        "df_test[\"CAR_USE\"]=df_test[\"CAR_USE\"].astype('category').cat.codes.astype('int')\r\n",
        "df_train[\"REVOKED\"]=df_train[\"REVOKED\"].astype('category').cat.codes.astype('int')\r\n",
        "df_test[\"REVOKED\"]=df_test[\"REVOKED\"].astype('category').cat.codes.astype('int')\r\n",
        "df_train[\"CAR_TYPE\"]=df_train[\"CAR_TYPE\"].astype('category').cat.codes.astype('int')\r\n",
        "df_test[\"CAR_TYPE\"]=df_test[\"CAR_TYPE\"].astype('category').cat.codes.astype('int')\r\n",
        "df_train[\"RED_CAR\"]=df_train[\"RED_CAR\"].astype('category').cat.codes.astype('int')\r\n",
        "df_test[\"RED_CAR\"]=df_test[\"RED_CAR\"].astype('category').cat.codes.astype('int')"
      ],
      "execution_count": 519,
      "outputs": []
    },
    {
      "cell_type": "markdown",
      "metadata": {
        "id": "D182BwKzV5gP"
      },
      "source": [
        "Removing the $ & , and converting to int"
      ]
    },
    {
      "cell_type": "code",
      "metadata": {
        "id": "7mszFHBdGWJX"
      },
      "source": [
        "df_train['BLUEBOOK']=df_train['BLUEBOOK'].str.replace(\"$\",\"\")\r\n",
        "df_train['BLUEBOOK']=df_train['BLUEBOOK'].str.replace(\",\",\"\").astype('int')\r\n",
        "df_train['OLDCLAIM']=df_train['OLDCLAIM'].str.replace(\"$\",\"\")\r\n",
        "df_train['OLDCLAIM']=df_train['OLDCLAIM'].str.replace(\",\",\"\").astype('int')\r\n",
        "df_train['CLM_AMT']=df_train['CLM_AMT'].str.replace(\"$\",\"\")\r\n",
        "df_train['CLM_AMT']=df_train['CLM_AMT'].str.replace(\",\",\"\").astype('int')\r\n",
        "df_test['BLUEBOOK']=df_test['BLUEBOOK'].str.replace(\"$\",\"\")\r\n",
        "df_test['BLUEBOOK']=df_test['BLUEBOOK'].str.replace(\",\",\"\").astype('int')\r\n",
        "df_test['OLDCLAIM']=df_test['OLDCLAIM'].str.replace(\"$\",\"\")\r\n",
        "df_test['OLDCLAIM']=df_test['OLDCLAIM'].str.replace(\",\",\"\").astype('int')\r\n",
        "df_test['CLM_AMT']=df_test['CLM_AMT'].str.replace(\"$\",\"\")\r\n",
        "df_test['CLM_AMT']=df_test['CLM_AMT'].str.replace(\",\",\"\").astype('int')\r\n",
        "df_train[\"CAR_AGE\"]=df_train[\"CAR_AGE\"].round().astype('int')\r\n",
        "df_test[\"CAR_AGE\"]=df_test[\"CAR_AGE\"].round().astype('int')"
      ],
      "execution_count": 521,
      "outputs": []
    },
    {
      "cell_type": "code",
      "metadata": {
        "colab": {
          "base_uri": "https://localhost:8080/"
        },
        "id": "5vPwT-whGvco",
        "outputId": "24994b45-1f10-48fb-e643-926c5dd47246"
      },
      "source": [
        "df_train['INCOME'].astype('int')"
      ],
      "execution_count": 522,
      "outputs": [
        {
          "output_type": "execute_result",
          "data": {
            "text/plain": [
              "0        4701\n",
              "1       10232\n",
              "2       66200\n",
              "3       34056\n",
              "4       45734\n",
              "        ...  \n",
              "8236        0\n",
              "8237    67359\n",
              "8238    30129\n",
              "8239    74315\n",
              "8240     5336\n",
              "Name: INCOME, Length: 8241, dtype: int64"
            ]
          },
          "metadata": {
            "tags": []
          },
          "execution_count": 522
        }
      ]
    },
    {
      "cell_type": "markdown",
      "metadata": {
        "id": "ZwSdttXjV_AX"
      },
      "source": [
        "Spliiting the features to X & target to y"
      ]
    },
    {
      "cell_type": "code",
      "metadata": {
        "colab": {
          "base_uri": "https://localhost:8080/"
        },
        "id": "Pt96-6fyIseZ",
        "outputId": "9bd426bd-d713-4173-be91-4b7a51e22367"
      },
      "source": [
        "X=df_train.iloc[:,:23]\r\n",
        "y=df_train.iloc[:,-1]\r\n"
      ],
      "execution_count": 528,
      "outputs": [
        {
          "output_type": "stream",
          "text": [
            "0       1\n",
            "1       0\n",
            "2       1\n",
            "3       0\n",
            "4       1\n",
            "       ..\n",
            "8236    0\n",
            "8237    0\n",
            "8238    0\n",
            "8239    0\n",
            "8240    0\n",
            "Name: CLAIM_FLAG, Length: 8241, dtype: int64\n"
          ],
          "name": "stdout"
        }
      ]
    },
    {
      "cell_type": "code",
      "metadata": {
        "id": "K2KsGxiRJFxO"
      },
      "source": [
        "X_train,X_test,y_train,y_test = train_test_split(X,y,test_size=0.3,stratify=y,random_state=0)"
      ],
      "execution_count": 529,
      "outputs": []
    },
    {
      "cell_type": "markdown",
      "metadata": {
        "id": "87NUzGdLWF-F"
      },
      "source": [
        "Applying logistic regression & checking for the F1 score"
      ]
    },
    {
      "cell_type": "code",
      "metadata": {
        "colab": {
          "base_uri": "https://localhost:8080/"
        },
        "id": "WzGUQT_EKbSn",
        "outputId": "042f8a31-7d49-40bd-d047-28776f907389"
      },
      "source": [
        "model =LogisticRegression(random_state=0)\r\n",
        "model.fit(X_train,y_train)\r\n",
        "y_pred = model.predict(X_test)\r\n",
        "\r\n",
        "f1 = f1_score(y_test,y_pred)\r\n",
        "print(f1)"
      ],
      "execution_count": 531,
      "outputs": [
        {
          "output_type": "stream",
          "text": [
            "0.6149341142020498\n"
          ],
          "name": "stdout"
        }
      ]
    },
    {
      "cell_type": "markdown",
      "metadata": {
        "id": "IYW9tvgVKrQK"
      },
      "source": [
        "\r\n",
        "Let's now try to see if random undersampling will improve the performance of our ML model"
      ]
    },
    {
      "cell_type": "code",
      "metadata": {
        "colab": {
          "base_uri": "https://localhost:8080/"
        },
        "id": "RW_rxbkBKdeE",
        "outputId": "d328f8c6-fdf0-4a9d-a2b1-27adb418af0f"
      },
      "source": [
        "\r\n",
        "from imblearn.under_sampling import RandomUnderSampler\r\n",
        "rus=RandomUnderSampler(random_state=0)\r\n",
        "X_sample2,y_sample2=rus.fit_sample(X_train,y_train)\r\n",
        "model_rus=LogisticRegression(random_state=0)\r\n",
        "model_rus.fit(X_sample2,y_sample2)\r\n",
        "y_pred=model_rus.predict(X_test)\r\n",
        "\r\n",
        "f1_rus =f1_score(y_test,y_pred)\r\n",
        "print(f1_rus)"
      ],
      "execution_count": 532,
      "outputs": [
        {
          "output_type": "stream",
          "text": [
            "/usr/local/lib/python3.6/dist-packages/sklearn/externals/six.py:31: FutureWarning: The module is deprecated in version 0.21 and will be removed in version 0.23 since we've dropped support for Python 2.7. Please rely on the official version of six (https://pypi.org/project/six/).\n",
            "  \"(https://pypi.org/project/six/).\", FutureWarning)\n",
            "/usr/local/lib/python3.6/dist-packages/sklearn/utils/deprecation.py:144: FutureWarning: The sklearn.neighbors.base module is  deprecated in version 0.22 and will be removed in version 0.24. The corresponding classes / functions should instead be imported from sklearn.neighbors. Anything that cannot be imported from sklearn.neighbors is now part of the private API.\n",
            "  warnings.warn(message, FutureWarning)\n"
          ],
          "name": "stderr"
        },
        {
          "output_type": "stream",
          "text": [
            "0.6902173913043478\n"
          ],
          "name": "stdout"
        },
        {
          "output_type": "stream",
          "text": [
            "/usr/local/lib/python3.6/dist-packages/sklearn/utils/deprecation.py:87: FutureWarning: Function safe_indexing is deprecated; safe_indexing is deprecated in version 0.22 and will be removed in version 0.24.\n",
            "  warnings.warn(msg, category=FutureWarning)\n"
          ],
          "name": "stderr"
        }
      ]
    },
    {
      "cell_type": "markdown",
      "metadata": {
        "id": "ANRMYfDwK0s-"
      },
      "source": [
        "Let's now try to see if cluster centroids will fare better than random undersampling"
      ]
    },
    {
      "cell_type": "code",
      "metadata": {
        "colab": {
          "base_uri": "https://localhost:8080/"
        },
        "id": "PobI0C5RKxI-",
        "outputId": "5cce525c-ae6d-4bc9-c63d-24b8a9d1e54c"
      },
      "source": [
        "\r\n",
        "from imblearn.under_sampling import ClusterCentroids\r\n",
        "cc = ClusterCentroids(random_state=0)\r\n",
        "X_sample3,y_sample3 = cc.fit_sample(X_train,y_train)\r\n",
        "model_cc = LogisticRegression(random_state= 0)\r\n",
        "model_cc.fit(X_sample3,y_sample3)\r\n",
        "y_pred =model_cc.predict(X_test)\r\n",
        "f1_cc =f1_score(y_test,y_pred)\r\n",
        "print(f1_cc)"
      ],
      "execution_count": 533,
      "outputs": [
        {
          "output_type": "stream",
          "text": [
            "0.6818495514147688\n"
          ],
          "name": "stdout"
        },
        {
          "output_type": "stream",
          "text": [
            "/usr/local/lib/python3.6/dist-packages/sklearn/utils/deprecation.py:87: FutureWarning: Function safe_indexing is deprecated; safe_indexing is deprecated in version 0.22 and will be removed in version 0.24.\n",
            "  warnings.warn(msg, category=FutureWarning)\n"
          ],
          "name": "stderr"
        }
      ]
    },
    {
      "cell_type": "markdown",
      "metadata": {
        "id": "eqMMK5SOLBZN"
      },
      "source": [
        "Let's see how well our model performs when we undersample using Tomek Links"
      ]
    },
    {
      "cell_type": "code",
      "metadata": {
        "colab": {
          "base_uri": "https://localhost:8080/"
        },
        "id": "ZHkeBW-DLDLQ",
        "outputId": "527f5593-b3c4-4ecd-f280-68af87796b60"
      },
      "source": [
        "from imblearn.under_sampling import TomekLinks\r\n",
        "tl = TomekLinks(random_state= 0)\r\n",
        "X_sample4,y_sample4 = tl.fit_sample(X_train,y_train)\r\n",
        "model_tl = LogisticRegression(random_state=0)\r\n",
        "model_tl.fit(X_sample4,y_sample4)\r\n",
        "y_pred = model_tl.predict(X_test)\r\n",
        "f1_tl =f1_score(y_test,y_pred)\r\n",
        "print(f1_tl)"
      ],
      "execution_count": 534,
      "outputs": [
        {
          "output_type": "stream",
          "text": [
            "/usr/local/lib/python3.6/dist-packages/sklearn/utils/deprecation.py:87: FutureWarning: Function safe_indexing is deprecated; safe_indexing is deprecated in version 0.22 and will be removed in version 0.24.\n",
            "  warnings.warn(msg, category=FutureWarning)\n"
          ],
          "name": "stderr"
        },
        {
          "output_type": "stream",
          "text": [
            "0.6491477272727273\n"
          ],
          "name": "stdout"
        }
      ]
    },
    {
      "cell_type": "markdown",
      "metadata": {
        "id": "Y63tME47LNcD"
      },
      "source": [
        "SMOTE Sampling(Synthetic Minority Oversampling Technique) Let's see if an advanced technique like SMOTE gives a better performance"
      ]
    },
    {
      "cell_type": "code",
      "metadata": {
        "colab": {
          "base_uri": "https://localhost:8080/"
        },
        "id": "eVd35-u7LKF8",
        "outputId": "2556b993-ac9c-41d3-e449-7efc3cdb459b"
      },
      "source": [
        "\r\n",
        "from imblearn.over_sampling import SMOTE\r\n",
        "smote = SMOTE(random_state= 0)\r\n",
        "X_sample6,y_sample6 = smote.fit_sample(X_train,y_train)\r\n",
        "model_smote = LogisticRegression(random_state=0)\r\n",
        "model_smote.fit(X_sample6,y_sample6)\r\n",
        "y_pred = model_smote.predict(X_test)\r\n",
        "f1_smote =f1_score(y_test,y_pred)\r\n",
        "print(f1_smote)"
      ],
      "execution_count": 535,
      "outputs": [
        {
          "output_type": "stream",
          "text": [
            "0.6983695652173912\n"
          ],
          "name": "stdout"
        },
        {
          "output_type": "stream",
          "text": [
            "/usr/local/lib/python3.6/dist-packages/sklearn/utils/deprecation.py:87: FutureWarning: Function safe_indexing is deprecated; safe_indexing is deprecated in version 0.22 and will be removed in version 0.24.\n",
            "  warnings.warn(msg, category=FutureWarning)\n"
          ],
          "name": "stderr"
        }
      ]
    },
    {
      "cell_type": "markdown",
      "metadata": {
        "id": "zfOVEtJBLVt-"
      },
      "source": [
        "we can see that the F1 value of the smote is good than other models, hence we are using to predict y_test using  smote"
      ]
    },
    {
      "cell_type": "code",
      "metadata": {
        "colab": {
          "base_uri": "https://localhost:8080/"
        },
        "id": "ZUF5uuAgLSas",
        "outputId": "93569abf-0038-4962-d506-bf12020ad61d"
      },
      "source": [
        "y_pred_test = model_smote.predict(df_test)\r\n",
        "print(y_pred_test)\r\n",
        "submissions_f = pd.DataFrame(y_pred_test,columns = ['CLAIM_FLAG'])\r\n",
        "submissions_f.to_csv('/content/drive/MyDrive/Colab_Notebooks/car_insurance_sample_submission.csv')"
      ],
      "execution_count": 536,
      "outputs": [
        {
          "output_type": "stream",
          "text": [
            "[1 0 0 ... 0 0 0]\n"
          ],
          "name": "stdout"
        }
      ]
    },
    {
      "cell_type": "code",
      "metadata": {
        "id": "BEqtMeRML4pA"
      },
      "source": [
        ""
      ],
      "execution_count": null,
      "outputs": []
    }
  ]
}